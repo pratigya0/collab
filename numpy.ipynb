{
 "cells": [
  {
   "cell_type": "markdown",
   "id": "b327b5fd",
   "metadata": {},
   "source": [
    "# LEARNING NUMPY WITH SCALAR\n",
    "\n",
    "first learning in datascience"
   ]
  },
  {
   "cell_type": "code",
   "execution_count": 32,
   "id": "33d39fbc",
   "metadata": {},
   "outputs": [
    {
     "data": {
      "text/plain": [
       "[1, 5, 3, 6, -8]"
      ]
     },
     "execution_count": 32,
     "metadata": {},
     "output_type": "execute_result"
    }
   ],
   "source": [
    "import numpy as np\n",
    "python_list = [1, 5, 3, 6, -8]\n",
    "python_list\n"
   ]
  },
  {
   "cell_type": "code",
   "execution_count": 33,
   "id": "159b2670",
   "metadata": {},
   "outputs": [
    {
     "data": {
      "text/plain": [
       "1"
      ]
     },
     "execution_count": 33,
     "metadata": {},
     "output_type": "execute_result"
    }
   ],
   "source": [
    "numpy_arr = np.array(python_list)\n",
    "len(numpy_arr.shape)"
   ]
  },
  {
   "cell_type": "code",
   "execution_count": 34,
   "id": "5128e731",
   "metadata": {},
   "outputs": [
    {
     "data": {
      "text/plain": [
       "[[1, 2], [3, 4]]"
      ]
     },
     "execution_count": 34,
     "metadata": {},
     "output_type": "execute_result"
    }
   ],
   "source": [
    "python_list_list = [[1,2],[3,4]]\n",
    "python_list_list"
   ]
  },
  {
   "cell_type": "code",
   "execution_count": 35,
   "id": "b03d5c5f",
   "metadata": {},
   "outputs": [
    {
     "data": {
      "text/plain": [
       "array([[1, 2],\n",
       "       [3, 4]])"
      ]
     },
     "execution_count": 35,
     "metadata": {},
     "output_type": "execute_result"
    }
   ],
   "source": [
    "np.array(python_list_list)\n"
   ]
  },
  {
   "cell_type": "code",
   "execution_count": 36,
   "id": "01fc27a1",
   "metadata": {},
   "outputs": [
    {
     "data": {
      "text/plain": [
       "(2, 2)"
      ]
     },
     "execution_count": 36,
     "metadata": {},
     "output_type": "execute_result"
    }
   ],
   "source": [
    "numpy_arr2 = np.array(python_list_list)\n",
    "numpy_arr2.shape"
   ]
  },
  {
   "cell_type": "code",
   "execution_count": 37,
   "id": "1349b9a6",
   "metadata": {},
   "outputs": [
    {
     "data": {
      "text/plain": [
       "[0, 1, 2, 3, 4, 5, 6, 7]"
      ]
     },
     "execution_count": 37,
     "metadata": {},
     "output_type": "execute_result"
    }
   ],
   "source": [
    "list(range(8))"
   ]
  },
  {
   "cell_type": "code",
   "execution_count": 38,
   "id": "883c0b3c",
   "metadata": {},
   "outputs": [
    {
     "data": {
      "text/plain": [
       "array([0, 1, 2, 3, 4, 5, 6, 7])"
      ]
     },
     "execution_count": 38,
     "metadata": {},
     "output_type": "execute_result"
    }
   ],
   "source": [
    "np.arange(8)"
   ]
  },
  {
   "cell_type": "code",
   "execution_count": 39,
   "id": "75b20728",
   "metadata": {},
   "outputs": [
    {
     "data": {
      "text/plain": [
       "array([[[0., 0.],\n",
       "        [0., 0.]],\n",
       "\n",
       "       [[0., 0.],\n",
       "        [0., 0.]]])"
      ]
     },
     "execution_count": 39,
     "metadata": {},
     "output_type": "execute_result"
    }
   ],
   "source": [
    "np.zeros((2, 2, 2))"
   ]
  },
  {
   "cell_type": "code",
   "execution_count": 40,
   "id": "cccab477",
   "metadata": {},
   "outputs": [
    {
     "data": {
      "text/plain": [
       "array([[2, 1],\n",
       "       [1, 0]])"
      ]
     },
     "execution_count": 40,
     "metadata": {},
     "output_type": "execute_result"
    }
   ],
   "source": [
    "np.random.randint(5, size =(2,2) )"
   ]
  },
  {
   "cell_type": "code",
   "execution_count": 41,
   "id": "4762feb9",
   "metadata": {},
   "outputs": [
    {
     "data": {
      "text/plain": [
       "dtype('int32')"
      ]
     },
     "execution_count": 41,
     "metadata": {},
     "output_type": "execute_result"
    }
   ],
   "source": [
    "#checking datatype\n",
    "import numpy as np\n",
    "a = [1, 2, 3, 4, 5, 6, 45]\n",
    "arr = np.array(a)\n",
    "arr.dtype"
   ]
  },
  {
   "cell_type": "code",
   "execution_count": 42,
   "id": "5fd58696",
   "metadata": {},
   "outputs": [],
   "source": [
    "#slicing\n",
    "import numpy as np"
   ]
  },
  {
   "cell_type": "code",
   "execution_count": 2,
   "id": "8cb2296e",
   "metadata": {},
   "outputs": [],
   "source": [
    "arr = np.random.rand(5, 5)"
   ]
  },
  {
   "cell_type": "code",
   "execution_count": 3,
   "id": "dc1fb6ed",
   "metadata": {},
   "outputs": [
    {
     "data": {
      "text/plain": [
       "array([[0.49345006, 0.04845642, 0.84439427, 0.26093915, 0.61601445],\n",
       "       [0.81201042, 0.85788424, 0.18677827, 0.07852011, 0.51701174],\n",
       "       [0.81184528, 0.5211269 , 0.54501328, 0.9361325 , 0.39764387],\n",
       "       [0.33317612, 0.92702355, 0.72231174, 0.11281185, 0.41475667],\n",
       "       [0.46639318, 0.03916971, 0.76474183, 0.39224889, 0.78366749]])"
      ]
     },
     "execution_count": 3,
     "metadata": {},
     "output_type": "execute_result"
    }
   ],
   "source": [
    "arr"
   ]
  },
  {
   "cell_type": "code",
   "execution_count": 5,
   "id": "7221526d",
   "metadata": {
    "scrolled": true
   },
   "outputs": [
    {
     "data": {
      "text/plain": [
       "(5, 5)"
      ]
     },
     "execution_count": 5,
     "metadata": {},
     "output_type": "execute_result"
    }
   ],
   "source": [
    "arr.shape"
   ]
  },
  {
   "cell_type": "code",
   "execution_count": 7,
   "id": "0758a77a",
   "metadata": {},
   "outputs": [
    {
     "data": {
      "text/plain": [
       "dtype('float64')"
      ]
     },
     "execution_count": 7,
     "metadata": {},
     "output_type": "execute_result"
    }
   ],
   "source": [
    "arr.dtype"
   ]
  },
  {
   "cell_type": "code",
   "execution_count": 9,
   "id": "0744f8af",
   "metadata": {},
   "outputs": [
    {
     "data": {
      "text/plain": [
       "array([[0.49345006, 0.04845642, 0.84439427, 0.26093915, 0.61601445],\n",
       "       [0.81201042, 0.85788424, 0.18677827, 0.07852011, 0.51701174],\n",
       "       [0.81184528, 0.5211269 , 0.54501328, 0.9361325 , 0.39764387],\n",
       "       [0.33317612, 0.92702355, 0.72231174, 0.11281185, 0.41475667]])"
      ]
     },
     "execution_count": 9,
     "metadata": {},
     "output_type": "execute_result"
    }
   ],
   "source": [
    " arr[:4]"
   ]
  },
  {
   "cell_type": "code",
   "execution_count": 11,
   "id": "79408052",
   "metadata": {},
   "outputs": [
    {
     "data": {
      "text/plain": [
       "array([[0.49345006, 0.04845642, 0.84439427, 0.26093915],\n",
       "       [0.81201042, 0.85788424, 0.18677827, 0.07852011],\n",
       "       [0.81184528, 0.5211269 , 0.54501328, 0.9361325 ],\n",
       "       [0.33317612, 0.92702355, 0.72231174, 0.11281185],\n",
       "       [0.46639318, 0.03916971, 0.76474183, 0.39224889]])"
      ]
     },
     "execution_count": 11,
     "metadata": {},
     "output_type": "execute_result"
    }
   ],
   "source": [
    "arr[:, :4]   #remove last row"
   ]
  },
  {
   "cell_type": "code",
   "execution_count": 12,
   "id": "0b7a2071",
   "metadata": {},
   "outputs": [
    {
     "data": {
      "text/plain": [
       "0.8578842416807837"
      ]
     },
     "execution_count": 12,
     "metadata": {},
     "output_type": "execute_result"
    }
   ],
   "source": [
    "arr[1,1]    #selet 1 number"
   ]
  },
  {
   "cell_type": "code",
   "execution_count": 13,
   "id": "584b1082",
   "metadata": {},
   "outputs": [
    {
     "data": {
      "text/plain": [
       "array([[0.49345006, 0.04845642, 0.84439427, 0.26093915, 0.61601445],\n",
       "       [0.81201042, 0.85788424, 0.18677827, 0.07852011, 0.51701174],\n",
       "       [0.81184528, 0.5211269 , 0.54501328, 0.9361325 , 0.39764387],\n",
       "       [0.33317612, 0.92702355, 0.72231174, 0.11281185, 0.41475667]])"
      ]
     },
     "execution_count": 13,
     "metadata": {},
     "output_type": "execute_result"
    }
   ],
   "source": [
    "arr[: -1] #delete the last row"
   ]
  },
  {
   "cell_type": "code",
   "execution_count": 19,
   "id": "18d7b33c",
   "metadata": {},
   "outputs": [],
   "source": [
    "#masking\n",
    "int_arr = np.random.randint(5, size=(6,8))"
   ]
  },
  {
   "cell_type": "code",
   "execution_count": 22,
   "id": "021f7252",
   "metadata": {},
   "outputs": [
    {
     "data": {
      "text/plain": [
       "array([[0, 4, 3, 4, 2, 0, 0, 4],\n",
       "       [1, 2, 1, 2, 3, 4, 2, 1],\n",
       "       [2, 2, 1, 4, 0, 4, 0, 2],\n",
       "       [4, 4, 3, 1, 3, 0, 0, 2],\n",
       "       [3, 1, 1, 1, 2, 3, 4, 1],\n",
       "       [3, 1, 3, 1, 0, 3, 1, 1]])"
      ]
     },
     "execution_count": 22,
     "metadata": {},
     "output_type": "execute_result"
    }
   ],
   "source": [
    "int_arr"
   ]
  },
  {
   "cell_type": "code",
   "execution_count": 23,
   "id": "c90964f3",
   "metadata": {},
   "outputs": [
    {
     "data": {
      "text/plain": [
       "array([0, 4, 3, 4, 2, 0, 0, 4])"
      ]
     },
     "execution_count": 23,
     "metadata": {},
     "output_type": "execute_result"
    }
   ],
   "source": [
    "int_arr_0 = int_arr[0]      #selecting first row only\n",
    "int_arr_0"
   ]
  },
  {
   "cell_type": "code",
   "execution_count": 24,
   "id": "17a4de53",
   "metadata": {
    "scrolled": true
   },
   "outputs": [
    {
     "data": {
      "text/plain": [
       "array([ True, False, False, False, False,  True,  True, False])"
      ]
     },
     "execution_count": 24,
     "metadata": {},
     "output_type": "execute_result"
    }
   ],
   "source": [
    "int_arr_0 == 0"
   ]
  },
  {
   "cell_type": "code",
   "execution_count": 27,
   "id": "30c080d0",
   "metadata": {},
   "outputs": [
    {
     "data": {
      "text/plain": [
       "array([False, False, False, False,  True, False, False, False])"
      ]
     },
     "execution_count": 27,
     "metadata": {},
     "output_type": "execute_result"
    }
   ],
   "source": [
    "int_arr_0 == 2"
   ]
  },
  {
   "cell_type": "code",
   "execution_count": 29,
   "id": "548e8cfc",
   "metadata": {},
   "outputs": [],
   "source": [
    "#this line check wheather my current element is 0,2 or 1\n",
    "int_arr0_is12 = (int_arr_0 == 0) | (int_arr_0 == 2) | (int_arr_0 == 1)"
   ]
  },
  {
   "cell_type": "code",
   "execution_count": 30,
   "id": "227988a7",
   "metadata": {},
   "outputs": [
    {
     "data": {
      "text/plain": [
       "array([ True, False, False, False,  True,  True,  True, False])"
      ]
     },
     "execution_count": 30,
     "metadata": {},
     "output_type": "execute_result"
    }
   ],
   "source": [
    "int_arr0_is12"
   ]
  },
  {
   "cell_type": "code",
   "execution_count": 31,
   "id": "3d673701",
   "metadata": {},
   "outputs": [
    {
     "data": {
      "text/plain": [
       "array([0, 2, 0, 0])"
      ]
     },
     "execution_count": 31,
     "metadata": {},
     "output_type": "execute_result"
    }
   ],
   "source": [
    "int_arr_0[int_arr0_is12]"
   ]
  },
  {
   "cell_type": "code",
   "execution_count": 43,
   "id": "f6e840ef",
   "metadata": {},
   "outputs": [],
   "source": [
    "#transpose\n",
    "import numpy as np"
   ]
  },
  {
   "cell_type": "code",
   "execution_count": 51,
   "id": "cc8e2219",
   "metadata": {},
   "outputs": [
    {
     "data": {
      "text/plain": [
       "[1, 2, 3, 4]"
      ]
     },
     "execution_count": 51,
     "metadata": {},
     "output_type": "execute_result"
    }
   ],
   "source": [
    "marks = [[1,2,3,4],[5,6,7,8],[9,10,11,12]]\n",
    "marks[0]"
   ]
  },
  {
   "cell_type": "code",
   "execution_count": 53,
   "id": "653fd1c1",
   "metadata": {},
   "outputs": [
    {
     "data": {
      "text/plain": [
       "(1, 5, 9)"
      ]
     },
     "execution_count": 53,
     "metadata": {},
     "output_type": "execute_result"
    }
   ],
   "source": [
    "marks[0][0], marks[1][0], marks[2][0]"
   ]
  },
  {
   "cell_type": "code",
   "execution_count": 55,
   "id": "22d5aa37",
   "metadata": {},
   "outputs": [],
   "source": [
    "marks_transpose = []\n",
    "for j in range(len(marks[0])):\n",
    "    marks_transpose.append([])\n",
    "    for i in range(len(marks)):\n",
    "        marks_transpose[j].append(marks[i][j])"
   ]
  },
  {
   "cell_type": "code",
   "execution_count": 56,
   "id": "b1ac5fbe",
   "metadata": {},
   "outputs": [
    {
     "data": {
      "text/plain": [
       "[[1, 5, 9], [2, 6, 10], [3, 7, 11], [4, 8, 12]]"
      ]
     },
     "execution_count": 56,
     "metadata": {},
     "output_type": "execute_result"
    }
   ],
   "source": [
    "marks_transpose"
   ]
  },
  {
   "cell_type": "code",
   "execution_count": 57,
   "id": "df4b868b",
   "metadata": {},
   "outputs": [],
   "source": [
    "#transpose using numpy\n",
    "marks_array = np.array(marks)"
   ]
  },
  {
   "cell_type": "code",
   "execution_count": 58,
   "id": "53ebc13f",
   "metadata": {},
   "outputs": [
    {
     "data": {
      "text/plain": [
       "array([[ 1,  2,  3,  4],\n",
       "       [ 5,  6,  7,  8],\n",
       "       [ 9, 10, 11, 12]])"
      ]
     },
     "execution_count": 58,
     "metadata": {},
     "output_type": "execute_result"
    }
   ],
   "source": [
    "marks_array"
   ]
  },
  {
   "cell_type": "code",
   "execution_count": 59,
   "id": "402741a3",
   "metadata": {},
   "outputs": [
    {
     "data": {
      "text/plain": [
       "array([[ 1,  5,  9],\n",
       "       [ 2,  6, 10],\n",
       "       [ 3,  7, 11],\n",
       "       [ 4,  8, 12]])"
      ]
     },
     "execution_count": 59,
     "metadata": {},
     "output_type": "execute_result"
    }
   ],
   "source": [
    "marks_array.T"
   ]
  },
  {
   "cell_type": "code",
   "execution_count": 60,
   "id": "0f668e85",
   "metadata": {},
   "outputs": [
    {
     "data": {
      "text/plain": [
       "array([10, 26, 42])"
      ]
     },
     "execution_count": 60,
     "metadata": {},
     "output_type": "execute_result"
    }
   ],
   "source": [
    "marks_array.sum(axis=1)"
   ]
  },
  {
   "cell_type": "code",
   "execution_count": 61,
   "id": "432a3948",
   "metadata": {},
   "outputs": [
    {
     "data": {
      "text/plain": [
       "array([16.66666667, 43.33333333, 70.        ])"
      ]
     },
     "execution_count": 61,
     "metadata": {},
     "output_type": "execute_result"
    }
   ],
   "source": [
    "marks_array.sum(axis=1)/60*100"
   ]
  },
  {
   "cell_type": "code",
   "execution_count": 63,
   "id": "fb4b6659",
   "metadata": {},
   "outputs": [
    {
     "data": {
      "text/plain": [
       "array([15, 18, 21, 24])"
      ]
     },
     "execution_count": 63,
     "metadata": {},
     "output_type": "execute_result"
    }
   ],
   "source": [
    "marks_array.T.sum(axis=1)"
   ]
  },
  {
   "cell_type": "code",
   "execution_count": 64,
   "id": "076e322f",
   "metadata": {},
   "outputs": [
    {
     "data": {
      "text/plain": [
       "array([[ 1,  2,  3,  4],\n",
       "       [ 5,  6,  7,  8],\n",
       "       [ 9, 10, 11, 12]])"
      ]
     },
     "execution_count": 64,
     "metadata": {},
     "output_type": "execute_result"
    }
   ],
   "source": [
    "#numpy:BROADCASTING--adding new vector\n",
    "marks_array"
   ]
  },
  {
   "cell_type": "code",
   "execution_count": 67,
   "id": "88650f65",
   "metadata": {},
   "outputs": [
    {
     "data": {
      "text/plain": [
       "array([[1],\n",
       "       [2],\n",
       "       [3]])"
      ]
     },
     "execution_count": 67,
     "metadata": {},
     "output_type": "execute_result"
    }
   ],
   "source": [
    "grace_marks = np.array([[1,2,3]]).T\n",
    "grace_marks"
   ]
  },
  {
   "cell_type": "code",
   "execution_count": 68,
   "id": "2833f936",
   "metadata": {},
   "outputs": [
    {
     "data": {
      "text/plain": [
       "array([[ 2,  3,  4,  5],\n",
       "       [ 7,  8,  9, 10],\n",
       "       [12, 13, 14, 15]])"
      ]
     },
     "execution_count": 68,
     "metadata": {},
     "output_type": "execute_result"
    }
   ],
   "source": [
    "grace_marks+marks_array"
   ]
  },
  {
   "cell_type": "code",
   "execution_count": 69,
   "id": "0fc19b13",
   "metadata": {},
   "outputs": [
    {
     "data": {
      "text/plain": [
       "(3, 1)"
      ]
     },
     "execution_count": 69,
     "metadata": {},
     "output_type": "execute_result"
    }
   ],
   "source": [
    "grace_marks.shape"
   ]
  }
 ],
 "metadata": {
  "kernelspec": {
   "display_name": "Python 3 (ipykernel)",
   "language": "python",
   "name": "python3"
  },
  "language_info": {
   "codemirror_mode": {
    "name": "ipython",
    "version": 3
   },
   "file_extension": ".py",
   "mimetype": "text/x-python",
   "name": "python",
   "nbconvert_exporter": "python",
   "pygments_lexer": "ipython3",
   "version": "3.9.12"
  }
 },
 "nbformat": 4,
 "nbformat_minor": 5
}
